{
 "cells": [
  {
   "cell_type": "markdown",
   "metadata": {},
   "source": [
    "# Call API Using GroqCloud"
   ]
  },
  {
   "cell_type": "code",
   "execution_count": null,
   "metadata": {},
   "outputs": [],
   "source": [
    "import os\n",
    "\n",
    "from groq import Groq\n",
    "\n",
    "\n",
    "#GroqCloud API\n",
    "api_key = \"\"\n",
    "\n",
    "client = Groq(\n",
    "    api_key=api_key,\n",
    ")\n",
    "\n",
    "chat_completion = client.chat.completions.create(\n",
    "    messages=[\n",
    "        {\n",
    "            \"role\": \"user\",\n",
    "            \"content\": \"Hello\",\n",
    "        }\n",
    "    ],\n",
    "    model=\"llama-3.1-8b-instant\",\n",
    ")\n",
    "\n",
    "print(chat_completion.choices[0].message.content)"
   ]
  },
  {
   "cell_type": "markdown",
   "metadata": {},
   "source": [
    "# Simple chatbot"
   ]
  },
  {
   "cell_type": "code",
   "execution_count": null,
   "metadata": {},
   "outputs": [],
   "source": [
    "import streamlit as st\n",
    "\n",
    "# Tiêu đề và hướng dẫn\n",
    "st.title(\"Simple Chatbot\")\n",
    "st.write(\"This is a basic chatbot built with Streamlit. Type your message below to start chatting!\")\n",
    "\n",
    "# Khởi tạo lịch sử trò chuyện\n",
    "if 'chat_history' not in st.session_state:\n",
    "    st.session_state.chat_history = []\n",
    "\n",
    "if not st.session_state.chat_history:\n",
    "    st.session_state.chat_history.append({'role': 'assistant', 'content': \"Hello! I'm your chatbot. How can I help you today?\"})\n",
    "\n",
    "for message in st.session_state.chat_history:\n",
    "    with st.chat_message(message['role']):\n",
    "        st.write(message['content'])\n",
    "\n",
    "user_input = st.chat_input(\"Type your message here:\")\n",
    "\n",
    "def generate_response(user_input):\n",
    "    responses = {\n",
    "        \"hello\": \"Hi there!\",\n",
    "        \"how are you\": \"I'm doing well, thank you!\",\n",
    "        \"bye\": \"Goodbye!\"\n",
    "    }\n",
    "    for key in responses:\n",
    "        if key in user_input.lower():\n",
    "            return responses[key]\n",
    "    return \"I don't understand.\"\n",
    "\n",
    "# Xử lý đầu vào của người dùng\n",
    "if user_input:\n",
    "    user_input = user_input.strip()\n",
    "    if user_input:\n",
    "        # Thêm tin nhắn của người dùng vào lịch sử trò chuyện\n",
    "        st.session_state.chat_history.append({'role': 'user', 'content': user_input})\n",
    "        # Tạo phản hồi từ bot\n",
    "        bot_response = generate_response(user_input)\n",
    "        # Thêm phản hồi của bot vào lịch sử trò chuyện\n",
    "        st.session_state.chat_history.append({'role': 'assistant', 'content': bot_response})"
   ]
  }
 ],
 "metadata": {
  "language_info": {
   "name": "python"
  }
 },
 "nbformat": 4,
 "nbformat_minor": 2
}
